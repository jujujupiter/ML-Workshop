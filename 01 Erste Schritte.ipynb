{
 "cells": [
  {
   "cell_type": "markdown",
   "metadata": {},
   "source": [
    "# Erste Schritte mit Python in jupyter notebooks"
   ]
  },
  {
   "cell_type": "markdown",
   "metadata": {},
   "source": [
    "Strg und Enter drücken, um Zelle auszuführen"
   ]
  },
  {
   "cell_type": "code",
   "execution_count": 1,
   "metadata": {},
   "outputs": [
    {
     "name": "stdout",
     "output_type": "stream",
     "text": [
      "3\n",
      "-1\n",
      "2.5\n",
      "9\n",
      "1\n",
      "9\n",
      "8\n"
     ]
    }
   ],
   "source": [
    "# Einfache Operationen \n",
    "\n",
    "print(1 + 2)\n",
    "print(3 - 4)\n",
    "print(5 / 2)\n",
    "print(3 * 3)\n",
    "\n",
    "# Modulo/Rest\n",
    "print(10 % 9)\n",
    "\n",
    "# Potenzen\n",
    "print(3 ** 2)\n",
    "print(2 ** 3)"
   ]
  },
  {
   "cell_type": "code",
   "execution_count": 8,
   "metadata": {},
   "outputs": [
    {
     "ename": "SyntaxError",
     "evalue": "invalid syntax (<ipython-input-8-de1853601de4>, line 7)",
     "output_type": "error",
     "traceback": [
      "\u001b[0;36m  File \u001b[0;32m\"<ipython-input-8-de1853601de4>\"\u001b[0;36m, line \u001b[0;32m7\u001b[0m\n\u001b[0;31m    str_conc =\u001b[0m\n\u001b[0m              ^\u001b[0m\n\u001b[0;31mSyntaxError\u001b[0m\u001b[0;31m:\u001b[0m invalid syntax\n"
     ]
    }
   ],
   "source": [
    "# Strings und Speichern in Variablen\n",
    "str = \"Hello World\"\n",
    "print(str)\n",
    "\n",
    "# Zusammensetzen mehrerer Strings\n",
    "# Aufgabe: Erzeugen Sie die gleiche Ausgabe wie oben durch Zusammensetzen beider Wörter mit Hilfe von +\n",
    "str_conc = ?\n",
    "print(str_conc)\n",
    "\n",
    "# Was passiert wohl bei der Verwendung von * in Verbindung mit einer ganzen Zahl?\n",
    "# Aufgabe: erst nachdenken, dann die folgende Zeile auskommentieren.\n",
    "#print(\"Hello\" * 10)"
   ]
  },
  {
   "cell_type": "code",
   "execution_count": 4,
   "metadata": {},
   "outputs": [
    {
     "data": {
      "text/plain": [
       "['False',\n",
       " 'None',\n",
       " 'True',\n",
       " 'and',\n",
       " 'as',\n",
       " 'assert',\n",
       " 'async',\n",
       " 'await',\n",
       " 'break',\n",
       " 'class',\n",
       " 'continue',\n",
       " 'def',\n",
       " 'del',\n",
       " 'elif',\n",
       " 'else',\n",
       " 'except',\n",
       " 'finally',\n",
       " 'for',\n",
       " 'from',\n",
       " 'global',\n",
       " 'if',\n",
       " 'import',\n",
       " 'in',\n",
       " 'is',\n",
       " 'lambda',\n",
       " 'nonlocal',\n",
       " 'not',\n",
       " 'or',\n",
       " 'pass',\n",
       " 'raise',\n",
       " 'return',\n",
       " 'try',\n",
       " 'while',\n",
       " 'with',\n",
       " 'yield']"
      ]
     },
     "execution_count": 4,
     "metadata": {},
     "output_type": "execute_result"
    }
   ],
   "source": [
    "# Reservierte Wörter \n",
    "import keyword\n",
    "keyword.kwlist"
   ]
  },
  {
   "cell_type": "code",
   "execution_count": 5,
   "metadata": {},
   "outputs": [
    {
     "name": "stdout",
     "output_type": "stream",
     "text": [
      "Hallo\n"
     ]
    }
   ],
   "source": [
    "# if und Einrückung \n",
    "\n",
    "if True:\n",
    "    # Einrücken passiert hier automatisch, wenn Enter gedrückt wird (ansonsten Tab nutzen)\n",
    "    # Aufgabe: Ausgabe einer beliebigen Zeichenkette"
   ]
  },
  {
   "cell_type": "code",
   "execution_count": 1,
   "metadata": {},
   "outputs": [
    {
     "name": "stdout",
     "output_type": "stream",
     "text": [
      "1 2\n"
     ]
    }
   ],
   "source": [
    "# Gleichzeitige Zuweisungen\n",
    "eins, zwei = 1,2\n",
    "\n",
    "# Aufgabe: Beide in einem print-Statement ausgeben.\n",
    "print(?)"
   ]
  },
  {
   "cell_type": "code",
   "execution_count": 10,
   "metadata": {},
   "outputs": [
    {
     "name": "stdout",
     "output_type": "stream",
     "text": [
      "[1, 'Zwei', 3.0]\n",
      "[4, 5, 6, 4, 5, 6, 4, 5, 6, 4, 5, 6, 4, 5, 6, 4, 5, 6, 4, 5, 6, 4, 5, 6, 4, 5, 6, 4, 5, 6]\n"
     ]
    }
   ],
   "source": [
    "# Listen\n",
    "mylist=[]\n",
    "mylist.append(1) # Datentyp integer\n",
    "mylist.append(\"Zwei\") # Datentyp string\n",
    "mylist.append(3.0) # Datentyp float \n",
    "print(mylist)\n",
    "\n",
    "mylist2=[4,5,6]\n",
    "\n",
    "# Zwei Listen können auch durch Verwendung von + zusammengeführt werden. Aufgabe: Einfach mal ausprobieren!\n",
    "\n",
    "# Ähnlich wie bei Zeichenketten kann auch hier die Liste mit einer Zahl multipliziert werden:\n",
    "print(mylist2 * 10)"
   ]
  },
  {
   "cell_type": "code",
   "execution_count": 14,
   "metadata": {},
   "outputs": [
    {
     "name": "stdout",
     "output_type": "stream",
     "text": [
      "x ist zwei!\n",
      "2\n",
      "3\n",
      "5\n",
      "7\n",
      "0\n",
      "1\n",
      "2\n",
      "3\n",
      "4\n"
     ]
    }
   ],
   "source": [
    "# Bedingungen und Schleifen\n",
    "\n",
    "#  noch einmal if-Bedingung\n",
    "x = 2\n",
    "if x == 2:\n",
    "    print(\"x ist zwei!\")\n",
    "elif x==3:\n",
    "    print(\"x ist drei!\")\n",
    "else:\n",
    "    print(\"x ist nicht gleich zwei oder 3.\")\n",
    "\n",
    "# for - Schleifen\n",
    "pz = [2,3,5,7]\n",
    "for prime in pz:\n",
    "    print(prime)\n",
    "    \n",
    "# Was passiert bei Ausführung des folgenden Codes?\n",
    "#for x in range(5):\n",
    "#    print(x)\n",
    "    \n",
    "# while - Schleifen    \n",
    "zaehler = 0\n",
    "while zaehler < 5:\n",
    "    print(zaehler)\n",
    "    zaehler += 1  # Ist das gleiche wie zaehler = zaehler + 1"
   ]
  }
 ],
 "metadata": {
  "kernelspec": {
   "display_name": "Python 3",
   "language": "python",
   "name": "python3"
  },
  "language_info": {
   "codemirror_mode": {
    "name": "ipython",
    "version": 3
   },
   "file_extension": ".py",
   "mimetype": "text/x-python",
   "name": "python",
   "nbconvert_exporter": "python",
   "pygments_lexer": "ipython3",
   "version": "3.7.7"
  }
 },
 "nbformat": 4,
 "nbformat_minor": 4
}
