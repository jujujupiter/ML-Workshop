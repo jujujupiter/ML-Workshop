{
 "cells": [
  {
   "cell_type": "markdown",
   "metadata": {},
   "source": [
    "# Erste Schritte mit Python in jupyter notebooks"
   ]
  },
  {
   "cell_type": "markdown",
   "metadata": {},
   "source": [
    "Strg und Enter drücken, um Zelle auszuführen"
   ]
  },
  {
   "cell_type": "code",
   "execution_count": null,
   "metadata": {},
   "outputs": [],
   "source": [
    "# Einfache Operationen \n",
    "\n",
    "print(1 + 2)\n",
    "print(3 - 4)\n",
    "print(5 / 2)\n",
    "print(3 * 3)\n",
    "\n",
    "# Modulo/Rest\n",
    "print(10 % 9)\n",
    "\n",
    "# Potenzen\n",
    "print(3 ** 2)\n",
    "print(2 ** 3)"
   ]
  },
  {
   "cell_type": "code",
   "execution_count": null,
   "metadata": {},
   "outputs": [],
   "source": [
    "# Strings und Speichern in Variablen\n",
    "str = \"Hello World\"\n",
    "print(str)\n",
    "\n",
    "# Zusammensetzen mehrerer Strings\n",
    "# Aufgabe: Erzeugen Sie die gleiche Ausgabe wie oben durch Zusammensetzen beider Wörter mit Hilfe von +\n",
    "str_conc = ?\n",
    "print(str_conc)\n",
    "\n",
    "# Was passiert wohl bei der Verwendung von * in Verbindung mit einer ganzen Zahl?\n",
    "# Aufgabe: erst nachdenken, dann die folgende Zeile auskommentieren.\n",
    "#print(\"Hello\" * 10)"
   ]
  },
  {
   "cell_type": "code",
   "execution_count": null,
   "metadata": {},
   "outputs": [],
   "source": [
    "# Reservierte Wörter \n",
    "import keyword\n",
    "keyword.kwlist"
   ]
  },
  {
   "cell_type": "code",
   "execution_count": null,
   "metadata": {},
   "outputs": [],
   "source": [
    "# if und Einrückung \n",
    "\n",
    "if True:\n",
    "    # Einrücken passiert hier automatisch, wenn Enter gedrückt wird (ansonsten Tab nutzen)\n",
    "    # Aufgabe: Ausgabe einer beliebigen Zeichenkette"
   ]
  },
  {
   "cell_type": "code",
   "execution_count": null,
   "metadata": {},
   "outputs": [],
   "source": [
    "# Gleichzeitige Zuweisungen\n",
    "eins, zwei = 1,2\n",
    "\n",
    "# Aufgabe: Beide in einem print-Statement ausgeben.\n",
    "print(?)"
   ]
  },
  {
   "cell_type": "code",
   "execution_count": null,
   "metadata": {},
   "outputs": [],
   "source": [
    "# Listen\n",
    "mylist=[]\n",
    "mylist.append(1) # Datentyp integer\n",
    "mylist.append(\"Zwei\") # Datentyp string\n",
    "mylist.append(3.0) # Datentyp float \n",
    "print(mylist)\n",
    "\n",
    "mylist2=[4,5,6]\n",
    "\n",
    "# Zwei Listen können auch durch Verwendung von + zusammengeführt werden. Aufgabe: Einfach mal ausprobieren!\n",
    "\n",
    "# Ähnlich wie bei Zeichenketten kann auch hier die Liste mit einer Zahl multipliziert werden:\n",
    "print(mylist2 * 10)"
   ]
  },
  {
   "cell_type": "code",
   "execution_count": null,
   "metadata": {},
   "outputs": [],
   "source": [
    "# Bedingungen und Schleifen\n",
    "\n",
    "#  noch einmal if-Bedingung\n",
    "x = 2\n",
    "if x == 2:\n",
    "    print(\"x ist zwei!\")\n",
    "elif x==3:\n",
    "    print(\"x ist drei!\")\n",
    "else:\n",
    "    print(\"x ist nicht gleich zwei oder 3.\")\n",
    "\n",
    "# for - Schleifen\n",
    "pz = [2,3,5,7]\n",
    "for prime in pz:\n",
    "    print(prime)\n",
    "    \n",
    "# Was passiert bei Ausführung des folgenden Codes?\n",
    "#for x in range(5):\n",
    "#    print(x)\n",
    "    \n",
    "# while - Schleifen    \n",
    "zaehler = 0\n",
    "while zaehler < 5:\n",
    "    print(zaehler)\n",
    "    zaehler += 1  # Ist das gleiche wie zaehler = zaehler + 1"
   ]
  }
 ],
 "metadata": {
  "kernelspec": {
   "display_name": "Python 3",
   "language": "python",
   "name": "python3"
  },
  "language_info": {
   "codemirror_mode": {
    "name": "ipython",
    "version": 3
   },
   "file_extension": ".py",
   "mimetype": "text/x-python",
   "name": "python",
   "nbconvert_exporter": "python",
   "pygments_lexer": "ipython3",
   "version": "3.7.7"
  }
 },
 "nbformat": 4,
 "nbformat_minor": 4
}
