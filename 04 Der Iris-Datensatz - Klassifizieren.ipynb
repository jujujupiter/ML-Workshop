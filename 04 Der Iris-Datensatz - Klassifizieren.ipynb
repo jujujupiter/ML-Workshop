{
 "cells": [
  {
   "cell_type": "markdown",
   "metadata": {},
   "source": [
    "# Der Iris-Datensatz"
   ]
  },
  {
   "cell_type": "markdown",
   "metadata": {},
   "source": [
    "## Laden von CSV-Dateien"
   ]
  },
  {
   "cell_type": "code",
   "execution_count": null,
   "metadata": {},
   "outputs": [],
   "source": [
    "import numpy as np\n",
    "fp = \"iris.txt\"  # oder \"ML-Workshop.git/iris.txt\" wenn außerhalb des Verzeichnisses gearbeitet wird\n",
    "X = np.loadtxt(fp, delimiter=\",\", usecols=[0,1,2,3])\n",
    "Y = np.loadtxt(fp, delimiter=\",\", usecols=[4], dtype=np.str)\n",
    "print( X[0], Y[0] )"
   ]
  },
  {
   "cell_type": "markdown",
   "metadata": {},
   "source": [
    "X enthält Instanzattribute, Y enthält Klassenbezeichnungen. \\\n",
    "Verwenden Sie **set**, um alle möglichen Klassenwerte aus Y zu bestimmen:"
   ]
  },
  {
   "cell_type": "code",
   "execution_count": null,
   "metadata": {},
   "outputs": [],
   "source": [
    "classes = list(set(Y))\n",
    "print(classes)"
   ]
  },
  {
   "cell_type": "markdown",
   "metadata": {},
   "source": [
    "## Visualisierung der Iris-Daten"
   ]
  },
  {
   "cell_type": "markdown",
   "metadata": {},
   "source": [
    "Daten können durch Matplotlib visualisiert werden, z.B. durch Plotten der ersten beiden Dimensionen der Irisdaten:"
   ]
  },
  {
   "cell_type": "code",
   "execution_count": null,
   "metadata": {},
   "outputs": [],
   "source": [
    "import matplotlib.pyplot as plt\n",
    "colors = [\"r\", \"g\", \"b\"] # Farbe für jede Klasse definieren\n",
    "x1, x2 = X[:,0], X[:,1] # Extrahieren aller Werte der ersten zwei Spalten\n",
    "\n",
    "ax = plt.figure().add_subplot(111)\n",
    "\n",
    "for (col, cls) in zip(colors, classes):\n",
    "    # Instanzen der Klasse ’cls’ finden\n",
    "    idx = np.where(Y == cls)[0]\n",
    "    # draw data points and color them according to class\n",
    "    s = ax.scatter(x1[idx], x2[idx], c=col, s=35)\n",
    "plt.show()"
   ]
  },
  {
   "cell_type": "markdown",
   "metadata": {},
   "source": [
    "## Klassifikator trainieren und Labels vorhersagen"
   ]
  },
  {
   "cell_type": "markdown",
   "metadata": {},
   "source": [
    "Laden eines Klassifikators aus scikit-learn:\n",
    "\n",
    "sklearn.neighbors.KNeighborsClassifier # **k-Nearest Neighbors** ***Klassifikator*** \\\n",
    "sklearn.tree.DecisionTreeClassifier # **Decision Trees** \\\n",
    "sklearn.svm.SVC # **Support Vector Machines** \\\n",
    "sklearn.naive_bayes.MultinomialNB # **Naive Bayes** "
   ]
  },
  {
   "cell_type": "markdown",
   "metadata": {},
   "source": [
    "Trainieren Sie den Klassifikator unter Verwendung von **fit** mit den Trainingsinstanzen X und Labels Y:\n",
    "\n",
    "classifier.fit(X,Y)"
   ]
  },
  {
   "cell_type": "markdown",
   "metadata": {},
   "source": [
    "Vorhersage von Klassen neuer Instanzen mit Hilfe von **predict**:\n",
    "\n",
    "prediction = classifier.predict(Z)"
   ]
  },
  {
   "cell_type": "markdown",
   "metadata": {},
   "source": [
    "## k-Nearest Neighbor"
   ]
  },
  {
   "cell_type": "markdown",
   "metadata": {},
   "source": [
    "Ein k-Nearest Neighbor-Klassifikator wird mit X und Y trainiert:"
   ]
  },
  {
   "cell_type": "code",
   "execution_count": null,
   "metadata": {},
   "outputs": [],
   "source": [
    "from sklearn.neighbors import KNeighborsClassifier # Laden des Klassifikators\n",
    "# alternativ: from sklearn import neighbors -> dann muss unten clf = neighbors.KNeighborsClassifier(k) stehen.\n",
    "\n",
    "k = 5 # Definieren der Anzahl der Nachbarn\n",
    "\n",
    "clf = KNeighborsClassifier(k)\n",
    "fit = clf.fit(X, Y) # Trainieren des Klassifikators"
   ]
  },
  {
   "cell_type": "markdown",
   "metadata": {},
   "source": [
    "Klassen von neuen Instanzen vorhersagen:"
   ]
  },
  {
   "cell_type": "code",
   "execution_count": null,
   "metadata": {},
   "outputs": [],
   "source": [
    "Z = [[6,2,4,1], [1,1,1,1]] # Definieren neuer Instanzen\n",
    "p = clf.predict(Z) # k-NN Vorhersage\n",
    "print(p)"
   ]
  },
  {
   "cell_type": "markdown",
   "metadata": {},
   "source": [
    "## Entscheidungsbäume"
   ]
  },
  {
   "cell_type": "code",
   "execution_count": null,
   "metadata": {},
   "outputs": [],
   "source": [
    "# Aufgabe: Trainieren Sie einen Entscheidungsbaum für den Iris-Datensatz. \n",
    "# Das Vorgehen ist dabei äquivalent zum Vorgehen für den k-NN-Klassifikator oben.\n",
    "# Das Modul heißt sklearn.tree.DecisionTreeClassifier\n",
    "\n",
    "from ? import ?\n",
    "clf = ?\n",
    "fit = clf.fit(X, Y) # Trainieren des Klassifikators\n",
    "\n",
    "# Vorhersage der Klassen neuer Instanzen\n",
    "Z = [[6,2,4,1], [1,1,1,1]] # Definieren neuer Instanzen\n",
    "p = clf.predict(Z) # D-Tree Vorhersage\n",
    "print(p)"
   ]
  },
  {
   "cell_type": "code",
   "execution_count": null,
   "metadata": {},
   "outputs": [],
   "source": [
    "plt.figure(figsize=[10,10])\n",
    "tp = tree.plot_tree(fit, feature_names =[\"Sepal Length\", \"Sepal Width\", \"Petal Length\", \"Petal Width\"], class_names=['Iris-setosa', 'Iris-virginica', 'Iris-versicolor'])"
   ]
  },
  {
   "cell_type": "markdown",
   "metadata": {},
   "source": [
    "## Support Vector Machine"
   ]
  },
  {
   "cell_type": "code",
   "execution_count": null,
   "metadata": {},
   "outputs": [],
   "source": [
    "# Aufgabe: Trainieren Sie eine SVM für den Iris-Datensatz. \n",
    "# Das Vorgehen ist dabei äquivalent zum Vorgehen für die Klassifikatoren oben.\n",
    "# Das Modul heißt sklearn.svm.SVC\n",
    "\n",
    "from ? import ?\n",
    "clf = ?\n",
    "fit = clf.fit(X, Y) # Trainieren des Klassifikators\n",
    "\n",
    "# Vorhersage der Klassen neuer Instanzen\n",
    "Z = [[6,2,4,1], [1,1,1,1]] # Definieren neuer Instanzen\n",
    "p = clf.predict(Z) # SVM Vorhersage\n",
    "print(p)"
   ]
  },
  {
   "cell_type": "markdown",
   "metadata": {},
   "source": [
    "## Naive Bayes"
   ]
  },
  {
   "cell_type": "code",
   "execution_count": null,
   "metadata": {},
   "outputs": [],
   "source": [
    "# Aufgabe: Trainieren Sie einen Naive-Bayes-Klassifikator für den Iris-Datensatz. \n",
    "# Das Vorgehen ist dabei äquivalent zum Vorgehen für die Klassifikatoren oben.\n",
    "# Das Modul heißt sklearn.naive_bayes.MultinomialNB\n",
    "\n",
    "from ? import ?\n",
    "clf = ?\n",
    "fit = clf.fit(X, Y) # Trainieren des Klassifikators\n",
    "\n",
    "# Vorhersage der Klassen neuer Instanzen\n",
    "Z = [[6,2,4,1], [1,1,1,1]] # Definieren neuer Instanzen\n",
    "p = clf.predict(Z) # Naive-Bayes Vorhersage\n",
    "print(p)\n"
   ]
  }
 ],
 "metadata": {
  "kernelspec": {
   "display_name": "Python 3",
   "language": "python",
   "name": "python3"
  },
  "language_info": {
   "codemirror_mode": {
    "name": "ipython",
    "version": 3
   },
   "file_extension": ".py",
   "mimetype": "text/x-python",
   "name": "python",
   "nbconvert_exporter": "python",
   "pygments_lexer": "ipython3",
   "version": "3.7.7"
  }
 },
 "nbformat": 4,
 "nbformat_minor": 4
}
