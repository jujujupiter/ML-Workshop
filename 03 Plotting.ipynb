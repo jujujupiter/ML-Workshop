{
 "cells": [
  {
   "cell_type": "code",
   "execution_count": null,
   "metadata": {},
   "outputs": [],
   "source": [
    "# Bibliotheken importieren\n",
    "import matplotlib.pyplot as plt \n",
    "import numpy as np\n",
    "\n",
    "# Sample-Vektor erstellen\n",
    "t = np.arange(0.0, 2.0, 0.01) \n",
    "\n",
    "# Sinusfunktion berechnen\n",
    "s = np.sin(2*np.pi*t) \n",
    "\n",
    "# Plotten\n",
    "ax = plt.figure().add_subplot(111)\n",
    "p = ax.plot(t, s) \n",
    "plt.show()\n",
    "\n",
    "# Aufgabe: Erstellen Sie mithilfe von subplot zwei Grafiken untereinander!\n",
    "# Tipp: add_subplot(111) erstellt ein Raster mit einer Zeile und einer Spalte \n",
    "# und plottet die Grafik an Position 1 dieses Rasters.\n",
    "# Hinweis: unter Jupyter notebooks aktuell nur eine Spalte möglich. "
   ]
  }
 ],
 "metadata": {
  "kernelspec": {
   "display_name": "Python 3",
   "language": "python",
   "name": "python3"
  },
  "language_info": {
   "codemirror_mode": {
    "name": "ipython",
    "version": 3
   },
   "file_extension": ".py",
   "mimetype": "text/x-python",
   "name": "python",
   "nbconvert_exporter": "python",
   "pygments_lexer": "ipython3",
   "version": "3.7.7"
  }
 },
 "nbformat": 4,
 "nbformat_minor": 4
}
