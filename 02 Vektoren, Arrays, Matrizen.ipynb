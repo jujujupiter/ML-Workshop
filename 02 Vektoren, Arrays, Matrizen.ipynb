{
 "cells": [
  {
   "cell_type": "markdown",
   "metadata": {},
   "source": [
    "Daten werden als Numpy-Arrays gespeichert.\\\n",
    "numpy.arange([start, ]stop, [step, ], dtype=None) -> numpy.ndarray\n"
   ]
  },
  {
   "cell_type": "code",
   "execution_count": null,
   "metadata": {},
   "outputs": [],
   "source": [
    "import numpy as np # Numpy-Bibliothek importieren\n",
    "\n",
    "# Aufgabe: Erzeugen Sie ein Array, das die Zahlen 0 bis 4 enthält! \n",
    "\n",
    "vector = np.arange(?) \n",
    "vector"
   ]
  },
  {
   "cell_type": "markdown",
   "metadata": {},
   "source": [
    "Und können durch Indexierung oder Slicing leicht zugänglich gemacht werden.\n",
    "Beispiel: \\\n",
    "x[2] \\\n",
    "Ausgabe: 2"
   ]
  },
  {
   "cell_type": "code",
   "execution_count": null,
   "metadata": {
    "scrolled": true
   },
   "outputs": [],
   "source": [
    "print(vector[?]) # zweites Element der Liste\n",
    "\n",
    "print(vector[?]) # Zweites Element von hinten\n",
    "\n",
    "print(vector[?:?]) # Zweites bis drittes Element der Liste"
   ]
  },
  {
   "cell_type": "markdown",
   "metadata": {},
   "source": [
    "Es können Matrizen generiert und manipuliert werden.\n",
    "\n",
    "Die Einheitsmatrix ist eine quadratische Matrix mit Einsen auf der Hauptdiagonale. Die Funktion numpy.identity(n, dtype=None) gibt diese als n x n Array zurück. "
   ]
  },
  {
   "cell_type": "code",
   "execution_count": null,
   "metadata": {},
   "outputs": [],
   "source": [
    " # Erzeugen Sie eine 5x5 Einheitsmatrix!\n",
    "matrix = ?\n",
    "\n",
    "# Kopieren Sie nun oben erzeugtes Array \"vector\" in die dritte Spalte von \"matrix\"\n",
    "matrix[:,?] = vector \n",
    "print(matrix)"
   ]
  },
  {
   "cell_type": "markdown",
   "metadata": {},
   "source": [
    "Matrixoperationen sind Eigenschaften oder Methoden:"
   ]
  },
  {
   "cell_type": "code",
   "execution_count": null,
   "metadata": {},
   "outputs": [],
   "source": [
    "# Transponieren einer Matrix\n",
    "matrix = matrix.T \n",
    "print(matrix)\n",
    "\n",
    "# Berechnen des Skalarprodukts von matrix und vector\n",
    "print(np.dot(matrix, vector)) "
   ]
  }
 ],
 "metadata": {
  "kernelspec": {
   "display_name": "Python 3",
   "language": "python",
   "name": "python3"
  },
  "language_info": {
   "codemirror_mode": {
    "name": "ipython",
    "version": 3
   },
   "file_extension": ".py",
   "mimetype": "text/x-python",
   "name": "python",
   "nbconvert_exporter": "python",
   "pygments_lexer": "ipython3",
   "version": "3.7.7"
  }
 },
 "nbformat": 4,
 "nbformat_minor": 4
}
