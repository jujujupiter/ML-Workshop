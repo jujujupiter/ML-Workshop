{
 "cells": [
  {
   "cell_type": "markdown",
   "metadata": {},
   "source": [
    "# Der Iris-Datensatz - Clustern"
   ]
  },
  {
   "cell_type": "markdown",
   "metadata": {},
   "source": [
    "## Laden von CSV-Dateien"
   ]
  },
  {
   "cell_type": "code",
   "execution_count": 3,
   "metadata": {},
   "outputs": [
    {
     "name": "stdout",
     "output_type": "stream",
     "text": [
      "[5.1 3.5 1.4 0.2] Iris-setosa\n"
     ]
    }
   ],
   "source": [
    "import numpy as np\n",
    "fp = \"iris.txt\"  # oder \"ML-Workshop.git/iris.txt\" wenn außerhalb des Verzeichnisses gearbeitet wird\n",
    "X = np.loadtxt(fp, delimiter=\",\", usecols=[0,1,2,3])\n",
    "Y = np.loadtxt(fp, delimiter=\",\", usecols=[4], dtype=np.str)\n",
    "print( X[0], Y[0] )"
   ]
  },
  {
   "cell_type": "markdown",
   "metadata": {},
   "source": [
    "X enthält Instanzattribute, Y enthält Klassenbezeichnungen. \\\n",
    "Verwenden Sie **set**, um alle möglichen Klassenwerte aus Y zu bestimmen:"
   ]
  },
  {
   "cell_type": "code",
   "execution_count": 4,
   "metadata": {},
   "outputs": [
    {
     "name": "stdout",
     "output_type": "stream",
     "text": [
      "['Iris-virginica', 'Iris-setosa', 'Iris-versicolor']\n"
     ]
    }
   ],
   "source": [
    "classes = list(set(Y))\n",
    "print(classes)"
   ]
  },
  {
   "cell_type": "markdown",
   "metadata": {},
   "source": [
    "## Visualisierung der Iris-Daten"
   ]
  },
  {
   "cell_type": "markdown",
   "metadata": {},
   "source": [
    "Daten können durch Matplotlib visualisiert werden, z.B. durch Plotten der ersten beiden Dimensionen der Irisdaten:"
   ]
  },
  {
   "cell_type": "code",
   "execution_count": 5,
   "metadata": {},
   "outputs": [
    {
     "data": {
      "image/png": "[encoded data removed]",
      "text/plain": [
       "<Figure size 432x288 with 1 Axes>"
      ]
     },
     "metadata": {
      "needs_background": "light"
     },
     "output_type": "display_data"
    }
   ],
   "source": [
    "import matplotlib.pyplot as plt\n",
    "colors = [\"r\", \"g\", \"b\"] # Farbe für jede Klasse definieren\n",
    "x1, x2 = X[:,0], X[:,1] # Extrahieren aller Werte der ersten zwei Spalten\n",
    "\n",
    "ax = plt.figure().add_subplot(111)\n",
    "\n",
    "for (col, cls) in zip(colors, classes):\n",
    "    # Instanzen der Klasse ’cls’ finden\n",
    "    idx = np.where(Y == cls)[0]\n",
    "    # draw data points and color them according to class\n",
    "    s = ax.scatter(x1[idx], x2[idx], c=col, s=35)\n",
    "plt.show()"
   ]
  },
  {
   "cell_type": "markdown",
   "metadata": {},
   "source": [
    "## Clustern ungelabelter Daten"
   ]
  },
  {
   "cell_type": "markdown",
   "metadata": {},
   "source": [
    "Laden eines Clustering-Verfahrens aus scikit-learn\n",
    "\n",
    "sklearn.cluster.KMeans # **k-Means** \\\n",
    "sklearn.cluster.DBSCAN # **DBSCAN** \\\n",
    "sklearn.cluster.AgglomerativeClustering # **Hierarchisches Clustering** "
   ]
  },
  {
   "cell_type": "markdown",
   "metadata": {},
   "source": [
    "Clustern mit **fit** und Eingabe X starten:\n",
    "\n",
    "clusterer.fit(X)"
   ]
  },
  {
   "cell_type": "markdown",
   "metadata": {},
   "source": [
    "Information zu den Clustern oder Vorhersage des Clusters für neue Instanzen:\n",
    "\n",
    "clusterer.cluster_centers \\\n",
    "clusterer.predict(Z)\n"
   ]
  },
  {
   "cell_type": "markdown",
   "metadata": {},
   "source": [
    "## k-Means"
   ]
  },
  {
   "cell_type": "code",
   "execution_count": 30,
   "metadata": {},
   "outputs": [
    {
     "data": {
      "image/png": "[encoded data removed]",
      "text/plain": [
       "<Figure size 432x288 with 1 Axes>"
      ]
     },
     "metadata": {
      "needs_background": "light"
     },
     "output_type": "display_data"
    }
   ],
   "source": [
    "from sklearn import cluster \n",
    "k = 3 # Anzahl der Cluster definieren\n",
    "\n",
    "clu = cluster.KMeans(k) # Initialisieren von k-Means\n",
    "fit = clu.fit(X) # Durchführen des Clusterings\n",
    "\n",
    "km = fit.labels_\n",
    "classes_km = list(set(fit.labels_))\n",
    "ax = plt.figure().add_subplot(111)\n",
    "\n",
    "for (col, cls) in zip(colors, classes_km):\n",
    "    # Instanzen der Klasse ’cls’ finden\n",
    "    idx = np.where(km == cls)[0]\n",
    "    # draw data points and color them according to class\n",
    "    s = ax.scatter(x1[idx], x2[idx], c=col, s=35)\n",
    "    #print(idx)\n",
    "    \n",
    "# Aufgabe: Für Vergleich auskommentieren und oben bei subplot Ziffer anpassen\n",
    "#ax = plt.figure().add_subplot(212)\n",
    "\n",
    "#for (col, cls) in zip(colors, classes):\n",
    "    # Instanzen der Klasse ’cls’ finden\n",
    "#    idx = np.where(Y == cls)[0]\n",
    "    # draw data points and color them according to class\n",
    "#    s = ax.scatter(x1[idx], x2[idx], c=col, s=35)\n",
    "\n",
    "plt.show()\n"
   ]
  },
  {
   "cell_type": "markdown",
   "metadata": {},
   "source": [
    "Clusterzentren ausgeben lassen und Vorhersage des Clusterlabels für neue Instanzen Z:"
   ]
  },
  {
   "cell_type": "code",
   "execution_count": 14,
   "metadata": {},
   "outputs": [
    {
     "name": "stdout",
     "output_type": "stream",
     "text": [
      "[[5.006      3.418      1.464      0.244     ]\n",
      " [5.9016129  2.7483871  4.39354839 1.43387097]\n",
      " [6.85       3.07368421 5.74210526 2.07105263]]\n",
      "[1 0]\n"
     ]
    }
   ],
   "source": [
    "print(fit.cluster_centers_)\n",
    "\n",
    "Z = [[6,2,4,1], [1,1,1,1]] # Definieren der neuen Instanzen\n",
    "p = clu.predict(Z) # Vorhersage\n",
    "print(p)"
   ]
  },
  {
   "cell_type": "markdown",
   "metadata": {},
   "source": [
    "## DBSCAN"
   ]
  },
  {
   "cell_type": "code",
   "execution_count": 39,
   "metadata": {},
   "outputs": [
    {
     "data": {
      "image/png": "[encoded data removed]",
      "text/plain": [
       "<Figure size 432x288 with 1 Axes>"
      ]
     },
     "metadata": {
      "needs_background": "light"
     },
     "output_type": "display_data"
    }
   ],
   "source": [
    "from sklearn.cluster import DBSCAN\n",
    "\n",
    "clu = DBSCAN(eps=0.5) # Initialisieren von DBSCAN\n",
    "fit = clu.fit(X) # Durchführen des Clusterings\n",
    "\n",
    "dbscan = fit.labels_\n",
    "classes_dbscan = list(set(dbscan))\n",
    "ax = plt.figure().add_subplot(111)\n",
    "\n",
    "for (col, cls) in zip(colors, classes_dbscan):\n",
    "    # Instanzen der Klasse ’cls’ finden\n",
    "    idx = np.where(dbscan == cls)[0]\n",
    "    # draw data points and color them according to class\n",
    "    s = ax.scatter(x1[idx], x2[idx], c=col, s=35)\n",
    "    #print(idx)\n",
    "    \n",
    "# Für Vergleich auskommentieren und oben bei subplot Ziffer anpassen\n",
    "#ax = plt.figure().add_subplot(212)\n",
    "\n",
    "#for (col, cls) in zip(colors, classes):\n",
    "    # Instanzen der Klasse ’cls’ finden\n",
    "#    idx = np.where(Y == cls)[0]\n",
    "    # draw data points and color them according to class\n",
    "#    s = ax.scatter(x1[idx], x2[idx], c=col, s=35)\n",
    "\n",
    "plt.show()\n",
    "\n",
    "# Aufgabe: Variieren Sie den Parameter eps. Was könnte damit reguliert werden?"
   ]
  },
  {
   "cell_type": "markdown",
   "metadata": {},
   "source": [
    "## Hierarchisches/Agglomeratives Clustern "
   ]
  },
  {
   "cell_type": "code",
   "execution_count": 37,
   "metadata": {},
   "outputs": [
    {
     "data": {
      "image/png": "[encoded data removed]",
      "text/plain": [
       "<Figure size 432x288 with 1 Axes>"
      ]
     },
     "metadata": {
      "needs_background": "light"
     },
     "output_type": "display_data"
    },
    {
     "data": {
      "image/png": "[encoded data removed]",
      "text/plain": [
       "<Figure size 432x288 with 1 Axes>"
      ]
     },
     "metadata": {
      "needs_background": "light"
     },
     "output_type": "display_data"
    }
   ],
   "source": [
    "from sklearn.cluster import AgglomerativeClustering\n",
    "k = 3 # Anzahl der Cluster definieren\n",
    "\n",
    "clu = ? # Initialisieren des Agglomerativen Clusterings\n",
    "fit = clu.fit_predict(X) # Durchführen des Clusterings. \n",
    "# Was ist der Unterschied  zwischen fit und fit_predict?\n",
    "\n",
    "classes_ac = list(set(fit))\n",
    "ax = plt.figure().add_subplot(111)\n",
    "\n",
    "for (col, cls) in zip(colors, classes_ac):\n",
    "    # Instanzen der Klasse ’cls’ finden\n",
    "    idx = np.where(fit == cls)[0]\n",
    "    # draw data points and color them according to class\n",
    "    s = ax.scatter(x1[idx], x2[idx], c=col, s=35)\n",
    "    #print(idx)\n",
    "    \n",
    "# Für Vergleich auskommentieren und oben bei subplot Ziffer anpassen\n",
    "#ax = plt.figure().add_subplot(212)\n",
    "\n",
    "#for (col, cls) in zip(colors, classes):\n",
    "    # Instanzen der Klasse ’cls’ finden\n",
    "#    idx = np.where(Y == cls)[0]\n",
    "    # draw data points and color them according to class\n",
    "#    s = ax.scatter(x1[idx], x2[idx], c=col, s=35)\n",
    "\n",
    "plt.show()"
   ]
  }
 ],
 "metadata": {
  "kernelspec": {
   "display_name": "Python 3",
   "language": "python",
   "name": "python3"
  },
  "language_info": {
   "codemirror_mode": {
    "name": "ipython",
    "version": 3
   },
   "file_extension": ".py",
   "mimetype": "text/x-python",
   "name": "python",
   "nbconvert_exporter": "python",
   "pygments_lexer": "ipython3",
   "version": "3.7.7"
  }
 },
 "nbformat": 4,
 "nbformat_minor": 4
}
